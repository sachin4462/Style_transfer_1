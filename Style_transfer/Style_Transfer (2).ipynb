{
 "cells": [
  {
   "cell_type": "markdown",
   "metadata": {},
   "source": [
    "# Style Transfer"
   ]
  },
  {
   "cell_type": "markdown",
   "metadata": {},
   "source": [
    "## Required libraries"
   ]
  },
  {
   "cell_type": "code",
   "execution_count": 1,
   "metadata": {},
   "outputs": [],
   "source": [
    "import matplotlib.pyplot as plt\n",
    "import numpy as np\n",
    "from tensorflow.keras import optimizers\n",
    "from tensorflow.keras.applications.vgg19 import VGG19\n",
    "from tensorflow.keras.preprocessing import image\n",
    "from tensorflow.keras.applications.vgg19 import preprocess_input\n",
    "from tensorflow.keras.models import Model\n",
    "from PIL import Image\n",
    "import tensorflow as tf\n",
    "from IPython.display import display"
   ]
  },
  {
   "cell_type": "code",
   "execution_count": 2,
   "metadata": {},
   "outputs": [],
   "source": [
    "# we'll be taking block4_conv4 layers output for content_of_image \n",
    "content_layers= [\"block4_conv4\"]\n",
    "\n",
    "# for style_of_image we'll be using layers given below in style_layers\n",
    "style_layers = [\"block1_conv2\",\"block2_conv2\",\"block3_conv3\",\"block4_conv3\",\"block5_conv3\"]"
   ]
  },
  {
   "cell_type": "code",
   "execution_count": 3,
   "metadata": {},
   "outputs": [],
   "source": [
    "# For deprocessing the processed image as per required conditions of pre_trained model VGG19\n",
    "# Firstly, we'll need to add the biases in the processed image\n",
    "# Here, Obtaining the biases corresponding to zero_input \n",
    "zero_input = np.zeros(3).astype(\"float32\")\n",
    "Biases = preprocess_input(zero_input)"
   ]
  },
  {
   "cell_type": "markdown",
   "metadata": {},
   "source": [
    "### Deprocess_img"
   ]
  },
  {
   "cell_type": "code",
   "execution_count": 4,
   "metadata": {},
   "outputs": [],
   "source": [
    "def deprocess(processed_img):\n",
    "    # add biases which were subtracted during the preprocess\n",
    "    unprocessed_img = processed_img-Biases\n",
    "    # unstack the unprocessed image\n",
    "    unprocessed_img = tf.unstack(unprocessed_img,axis=-1)\n",
    "    # restack the unprocessed image but with reversed order of BRG-channels\n",
    "    unprocessed_img = tf.stack([unprocessed_img[2],unprocessed_img[1],unprocessed_img[0]],axis=-1)\n",
    "    return unprocessed_img"
   ]
  },
  {
   "cell_type": "markdown",
   "metadata": {},
   "source": [
    "###  model"
   ]
  },
  {
   "cell_type": "code",
   "execution_count": 5,
   "metadata": {},
   "outputs": [],
   "source": [
    "def model():\n",
    "    # load VGG19 model\n",
    "    base_model=VGG19(include_top=False,weights=\"imagenet\")\n",
    "    base_model.trainable= False\n",
    "    output = content_layers+style_layers\n",
    "    #get required content and style output layers\n",
    "    output_layers = [base_model.get_layer(layer).output for layer in (output)]\n",
    "    return Model(base_model.input,output_layers)"
   ]
  },
  {
   "cell_type": "markdown",
   "metadata": {},
   "source": [
    "### Content_loss"
   ]
  },
  {
   "cell_type": "code",
   "execution_count": 6,
   "metadata": {},
   "outputs": [],
   "source": [
    "def content_loss(var_img_content,ref_img_content):\n",
    "    loss = 0.5*tf.reduce_mean(tf.square(var_img_content - ref_img_content))\n",
    "    return loss"
   ]
  },
  {
   "cell_type": "markdown",
   "metadata": {},
   "source": [
    "### Style loss"
   ]
  },
  {
   "cell_type": "code",
   "execution_count": 7,
   "metadata": {},
   "outputs": [],
   "source": [
    "def style_loss(var_img_sty,ref_img_sty):\n",
    "    img_conte = var_img_sty\n",
    "    img_conte_2 = ref_img_sty\n",
    "    # reshape image layer outputs into (width*height,channels)\n",
    "    img_conte = tf.reshape(img_conte,(img_conte.shape[1]*img_conte.shape[2],img_conte.shape[3]))\n",
    "    img_conte_2 = tf.reshape(img_conte_2,(img_conte_2.shape[1]*img_conte_2.shape[2],img_conte_2.shape[3]))\n",
    "    # Matrix multiplication of reshaped output and its transpose to get the gram matrix\n",
    "    var_img_grm_mat = tf.matmul(np.transpose(img_conte),img_conte)\n",
    "    ref_img_grm_mat = tf.matmul(np.transpose(img_conte_2),img_conte_2)\n",
    "    \n",
    "    channel = var_img_sty.shape[3]\n",
    "    size = var_img_sty.shape[1]*var_img_sty.shape[2]\n",
    "    loss=tf.reduce_mean(tf.square(ref_img_grm_mat-var_img_grm_mat)/(4*(channel**2)*(size**2)))\n",
    "    return loss"
   ]
  },
  {
   "cell_type": "markdown",
   "metadata": {},
   "source": [
    "### Variational loss"
   ]
  },
  {
   "cell_type": "code",
   "execution_count": 9,
   "metadata": {},
   "outputs": [],
   "source": [
    "japanese_garden = Image.open('japanese_garden.jpg')\n",
    "portrait = Image.open('picasso_selfportrait.jpg')\n",
    "content_image = image.img_to_array(japanese_garden)\n",
    "content_image = np.expand_dims(content_image, axis=0)\n",
    "img_h=content_image.shape[1]\n",
    "img_b = content_image.shape[2]"
   ]
  },
  {
   "cell_type": "code",
   "execution_count": 10,
   "metadata": {},
   "outputs": [],
   "source": [
    "def variation_loss(var_img):\n",
    "    x = tf.square(var_img[:,:img_h-1,img_b-1,:] - var_img[:,1:,img_b-1,:])\n",
    "    y = tf.square(var_img[:,:img_h-1,img_b-1,:] - var_img[:,:img_h-1,1:,:])\n",
    "    return tf.sum(tf.pow(x+y,variation_factor))"
   ]
  },
  {
   "cell_type": "markdown",
   "metadata": {},
   "source": [
    "### Total loss"
   ]
  },
  {
   "cell_type": "code",
   "execution_count": 11,
   "metadata": {},
   "outputs": [],
   "source": [
    "def total_loss(var_img_outputs, ref_content_outputs, ref_style_outputs,alpha=0.66,beta=0.32):\n",
    "    var_img_content = var_img_outputs[0]\n",
    "    ref_img_content = ref_content_outputs[0]\n",
    "    content_los=0\n",
    "    content_los = content_loss(var_img_content,ref_img_content)\n",
    "    style_los = 0\n",
    "#     variation_los = variation_loss(var_img_outputs)\n",
    "    style_loss_1 = style_loss(var_img_outputs[1],ref_style_outputs[1])\n",
    "    style_loss_2 = style_loss(var_img_outputs[2],ref_style_outputs[2])\n",
    "    style_loss_3 = style_loss(var_img_outputs[3],ref_style_outputs[3])\n",
    "    style_loss_4 = style_loss(var_img_outputs[4],ref_style_outputs[4])\n",
    "    style_los = style_loss_1 + style_loss_2 + style_loss_3 + style_loss_4\n",
    "    \n",
    "    loss = (1-alpha)*style_los + alpha*content_los \n",
    "    return loss"
   ]
  },
  {
   "cell_type": "markdown",
   "metadata": {},
   "source": [
    "### Load the Images"
   ]
  },
  {
   "cell_type": "code",
   "execution_count": 12,
   "metadata": {},
   "outputs": [],
   "source": [
    "# Load the content and style images\n",
    "japanese_garden = Image.open('japanese_garden.jpg')\n",
    "portrait = Image.open('picasso_selfportrait.jpg')"
   ]
  },
  {
   "cell_type": "markdown",
   "metadata": {},
   "source": [
    "### Preprocess the input images"
   ]
  },
  {
   "cell_type": "code",
   "execution_count": 13,
   "metadata": {},
   "outputs": [],
   "source": [
    "# convert img to tensor\n",
    "content_image = image.img_to_array(japanese_garden)\n",
    "content_image = np.expand_dims(content_image, axis=0)\n",
    "# preprocess it for VGG requirements\n",
    "processed_content = preprocess_input(content_image)\n",
    "\n",
    "style_image = image.img_to_array(portrait)\n",
    "style_image = np.expand_dims(style_image,axis=0)\n",
    "processed_style = preprocess_input(style_image)"
   ]
  },
  {
   "cell_type": "markdown",
   "metadata": {},
   "source": [
    "### Preprocessed content image"
   ]
  },
  {
   "cell_type": "code",
   "execution_count": 14,
   "metadata": {},
   "outputs": [
    {
     "name": "stderr",
     "output_type": "stream",
     "text": [
      "Clipping input data to the valid range for imshow with RGB data ([0..1] for floats or [0..255] for integers).\n"
     ]
    },
    {
     "data": {
      "text/plain": [
       "<matplotlib.image.AxesImage at 0x25529790388>"
      ]
     },
     "execution_count": 14,
     "metadata": {},
     "output_type": "execute_result"
    },
    {
     "data": {
      "image/png": "[encoded data removed]",
      "text/plain": [
       "<Figure size 432x288 with 1 Axes>"
      ]
     },
     "metadata": {
      "needs_background": "light"
     },
     "output_type": "display_data"
    }
   ],
   "source": [
    "plt.imshow(processed_content[0])"
   ]
  },
  {
   "cell_type": "markdown",
   "metadata": {},
   "source": [
    "### Preprocessed style image"
   ]
  },
  {
   "cell_type": "code",
   "execution_count": 15,
   "metadata": {},
   "outputs": [
    {
     "name": "stderr",
     "output_type": "stream",
     "text": [
      "Clipping input data to the valid range for imshow with RGB data ([0..1] for floats or [0..255] for integers).\n"
     ]
    },
    {
     "data": {
      "text/plain": [
       "<matplotlib.image.AxesImage at 0x255297e23c8>"
      ]
     },
     "execution_count": 15,
     "metadata": {},
     "output_type": "execute_result"
    },
    {
     "data": {
      "image/png": "[encoded data removed]",
      "text/plain": [
       "<Figure size 432x288 with 1 Axes>"
      ]
     },
     "metadata": {
      "needs_background": "light"
     },
     "output_type": "display_data"
    }
   ],
   "source": [
    "plt.imshow(processed_style[0])"
   ]
  },
  {
   "cell_type": "markdown",
   "metadata": {},
   "source": [
    "### Outputs of content and style"
   ]
  },
  {
   "cell_type": "code",
   "execution_count": 16,
   "metadata": {},
   "outputs": [],
   "source": [
    "model = model()\n",
    "content_outputs = model(processed_content)\n",
    "style_outputs = model(processed_style)"
   ]
  },
  {
   "cell_type": "markdown",
   "metadata": {},
   "source": [
    "### Optimization "
   ]
  },
  {
   "cell_type": "code",
   "execution_count": 24,
   "metadata": {},
   "outputs": [],
   "source": [
    "# optimizers\n",
    "optimizer = tf.optimizers.Adam(2,beta_1=.9,epsilon=1e-2)\n",
    "var_content = tf.Variable(processed_content+tf.random.normal(processed_content.shape))"
   ]
  },
  {
   "cell_type": "code",
   "execution_count": 25,
   "metadata": {},
   "outputs": [],
   "source": [
    "i=0\n",
    "best_loss =200000\n",
    "minv = Biases\n",
    "maxv = 255+Biases"
   ]
  },
  {
   "cell_type": "code",
   "execution_count": 27,
   "metadata": {},
   "outputs": [
    {
     "data": {
      "text/plain": [
       "<tf.Tensor: shape=(), dtype=float32, numpy=6361.686>"
      ]
     },
     "metadata": {},
     "output_type": "display_data"
    },
    {
     "data": {
      "text/plain": [
       "<tf.Tensor: shape=(), dtype=float32, numpy=6358.07>"
      ]
     },
     "metadata": {},
     "output_type": "display_data"
    }
   ],
   "source": [
    "for i in range(180):   \n",
    "    with tf.GradientTape() as grad:\n",
    "        grad.watch(var_content)\n",
    "        content_var_outputs = model(var_content)\n",
    "        loss = total_loss(content_var_outputs,content_outputs,style_outputs,alpha=.87)\n",
    "        grd = grad.gradient(loss,var_content)\n",
    "        optimizer.apply_gradients(zip([grd],[var_content]))\n",
    "        clipped = tf.clip_by_value(var_content, minv, maxv)\n",
    "        processed_content_var.assign(clipped)\n",
    "        if loss<best_loss:\n",
    "            best_image = var_content\n",
    "            best_loss=loss\n",
    "        display(loss)"
   ]
  },
  {
   "cell_type": "code",
   "execution_count": null,
   "metadata": {},
   "outputs": [],
   "source": [
    "deprocessed_best_image = deprocess(best_image)\n",
    "plt.figure(figsize=(10,10))\n",
    "plt.imshow(deprocessed_best_image[0]/255)"
   ]
  },
  {
   "cell_type": "code",
   "execution_count": null,
   "metadata": {},
   "outputs": [],
   "source": []
  },
  {
   "cell_type": "code",
   "execution_count": null,
   "metadata": {},
   "outputs": [],
   "source": []
  },
  {
   "cell_type": "code",
   "execution_count": null,
   "metadata": {},
   "outputs": [],
   "source": []
  }
 ],
 "metadata": {
  "kernelspec": {
   "display_name": "Python 3",
   "language": "python",
   "name": "python3"
  },
  "language_info": {
   "codemirror_mode": {
    "name": "ipython",
    "version": 3
   },
   "file_extension": ".py",
   "mimetype": "text/x-python",
   "name": "python",
   "nbconvert_exporter": "python",
   "pygments_lexer": "ipython3",
   "version": "3.7.4"
  }
 },
 "nbformat": 4,
 "nbformat_minor": 2
}
